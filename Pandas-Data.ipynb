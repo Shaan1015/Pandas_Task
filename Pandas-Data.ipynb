{
 "cells": [
  {
   "cell_type": "code",
   "execution_count": 1,
   "metadata": {},
   "outputs": [
    {
     "name": "stdout",
     "output_type": "stream",
     "text": [
      "a    0\n",
      "b    1\n",
      "c    2\n",
      "e    3\n",
      "d    4\n",
      "dtype: int64\n"
     ]
    }
   ],
   "source": [
    "#How to create a series from a list, numpy array and dict?\n",
    "import numpy as np\n",
    "import pandas as pd\n",
    "mylist = list('abcedfghijklmnopqrstuvwxyz')\n",
    "myarr = np.arange(26)\n",
    "mydict = dict(zip(mylist, myarr))\n",
    "ser1 = pd.Series(mylist)\n",
    "ser2 = pd.Series(myarr)\n",
    "ser3 = pd.Series(mydict)\n",
    "print(ser3.head())"
   ]
  },
  {
   "cell_type": "code",
   "execution_count": 2,
   "metadata": {},
   "outputs": [
    {
     "name": "stdout",
     "output_type": "stream",
     "text": [
      "  index  0\n",
      "0     a  0\n",
      "1     b  1\n",
      "2     c  2\n",
      "3     e  3\n",
      "4     d  4\n"
     ]
    }
   ],
   "source": [
    "\n",
    "#How to convert the index of a series into a column of a dataframe?\n",
    "# importing the pandas library as pd\n",
    "import pandas as pd\n",
    "mylist = list('abcedfghijklmnopqrstuvwxyz')\n",
    "myarr = np.arange(26)\n",
    "mydict = dict(zip(mylist, myarr))\n",
    "ser = pd.Series(mydict)\n",
    "df = ser.to_frame().reset_index()\n",
    "print(df.head())"
   ]
  },
  {
   "cell_type": "code",
   "execution_count": 3,
   "metadata": {},
   "outputs": [
    {
     "name": "stdout",
     "output_type": "stream",
     "text": [
      "  col1  col2\n",
      "0    a     0\n",
      "1    b     1\n",
      "2    c     2\n",
      "3    e     3\n",
      "4    d     4\n"
     ]
    }
   ],
   "source": [
    "#How to combine many series to form a dataframe?\n",
    "#import numpy as np\n",
    "#ser1 = pd.Series(list('abcedfghijklmnopqrstuvwxyz'))\n",
    "#ser2 = pd.Series(np.arange(26))\n",
    "# import pandas library\n",
    "import pandas as pd\n",
    "# Input\n",
    "import numpy as np\n",
    "ser1 = pd.Series(list('abcedfghijklmnopqrstuvwxyz'))\n",
    "ser2 = pd.Series(np.arange(26))\n",
    "\n",
    "# Solution 1\n",
    "df = pd.concat([ser1, ser2], axis=1)\n",
    "\n",
    "# Solution 2\n",
    "df = pd.DataFrame({'col1': ser1, 'col2': ser2})\n",
    "print(df.head())"
   ]
  },
  {
   "cell_type": "code",
   "execution_count": 4,
   "metadata": {},
   "outputs": [
    {
     "data": {
      "text/plain": [
       "0    a\n",
       "1    b\n",
       "2    c\n",
       "3    e\n",
       "4    d\n",
       "Name: alphabets, dtype: object"
      ]
     },
     "execution_count": 4,
     "metadata": {},
     "output_type": "execute_result"
    }
   ],
   "source": [
    "\n",
    "#How to assign name to the series’ index?\n",
    "\n",
    "#ser = pd.Series(list('abcedfghijklmnopqrstuvwxyz'))\n",
    "# importing pandas as pd\n",
    "import pandas as pd\n",
    "# Input\n",
    "ser = pd.Series(list('abcedfghijklmnopqrstuvwxyz'))\n",
    "\n",
    "# Solution\n",
    "ser.name = 'alphabets'\n",
    "ser.head()"
   ]
  },
  {
   "cell_type": "code",
   "execution_count": 5,
   "metadata": {},
   "outputs": [
    {
     "name": "stdout",
     "output_type": "stream",
     "text": [
      "Series1:\n",
      "0    1\n",
      "1    2\n",
      "2    3\n",
      "3    4\n",
      "4    5\n",
      "dtype: int64\n",
      "\n",
      "Series2:\n",
      "0    4\n",
      "1    5\n",
      "2    6\n",
      "3    7\n",
      "4    8\n",
      "dtype: int64\n",
      "\n",
      "Items of ps1 not present in ps2:\n",
      "0    1\n",
      "1    2\n",
      "2    3\n",
      "dtype: int64\n"
     ]
    }
   ],
   "source": [
    "#How to get the items of series A not present in series B?\n",
    "# Importing pandas library\n",
    "#From ser1 remove items present in ser2.\n",
    "#ser1 = pd.Series([1, 2, 3, 4, 5])\n",
    "#ser2 = pd.Series([4, 5, 6, 7, 8])\n",
    "import pandas as pd\n",
    "\n",
    "# Creating 2 pandas Series\n",
    "ps1 = pd.Series([1, 2, 3, 4, 5])\n",
    "ps2 = pd.Series([4, 5, 6, 7, 8])\n",
    "\n",
    "print(\"Series1:\")\n",
    "print(ps1)\n",
    "print(\"\\nSeries2:\")\n",
    "print(ps2)\n",
    "\n",
    "# Using Bitwise NOT operator along\n",
    "# with pandas.isin()\n",
    "print(\"\\nItems of ps1 not present in ps2:\")\n",
    "res = ps1[~ps1.isin(ps2)]\n",
    "print(res)"
   ]
  },
  {
   "cell_type": "code",
   "execution_count": 6,
   "metadata": {},
   "outputs": [
    {
     "name": "stdout",
     "output_type": "stream",
     "text": [
      "0    1\n",
      "1    2\n",
      "2    3\n",
      "5    6\n",
      "6    7\n",
      "7    8\n",
      "dtype: int64\n"
     ]
    }
   ],
   "source": [
    "\n",
    "#How to get the items not common to both series A and series B?\n",
    "#Get all items of ser1 and ser2 not common to both.\n",
    "#Input\n",
    "#ser1 = pd.Series([1, 2, 3, 4, 5])\n",
    "#ser2 = pd.Series([4, 5, 6, 7, 8])\n",
    "# import the modules\n",
    "import pandas as pd\n",
    "import numpy as np\n",
    "\n",
    "# create the series\n",
    "ser1 = pd.Series([1, 2, 3, 4, 5])\n",
    "ser2 = pd.Series([4, 5, 6, 7,8])\n",
    "\n",
    "# union of the series\n",
    "union = pd.Series(np.union1d(ser1, ser2))\n",
    "\n",
    "# intersection of the series\n",
    "intersect = pd.Series(np.intersect1d(ser1, ser2))\n",
    "\n",
    "# uncommon elements in both the series\n",
    "notcommonseries = union[~union.isin(intersect)]\n",
    "\n",
    "# displaying the result\n",
    "print(notcommonseries)"
   ]
  },
  {
   "cell_type": "code",
   "execution_count": 7,
   "metadata": {},
   "outputs": [
    {
     "name": "stdout",
     "output_type": "stream",
     "text": [
      "Original Series:\n",
      "0     14.946876\n",
      "1      3.263141\n",
      "2      9.615214\n",
      "3      8.389762\n",
      "4     19.959823\n",
      "5      9.803916\n",
      "6     15.481831\n",
      "7      1.158259\n",
      "8      8.550458\n",
      "9     10.035301\n",
      "10    10.709815\n",
      "11    17.312661\n",
      "12     2.510315\n",
      "13    15.390421\n",
      "14    13.383558\n",
      "15     8.321674\n",
      "16    10.778618\n",
      "17     5.979728\n",
      "18    16.660250\n",
      "19     8.245637\n",
      "20    10.050258\n",
      "21    18.949509\n",
      "22     4.324377\n",
      "23    10.467579\n",
      "24    14.544443\n",
      "dtype: float64\n",
      "\n",
      "Minimum, 25th percentile, median, 75th, and maximum of a given series:\n",
      "[ 1.15825884  8.32167442 10.05025799 14.94687645 19.95982345]\n"
     ]
    }
   ],
   "source": [
    "#How to get the minimum, 25th percentile, median, 75th, and max of a numeric series?\n",
    "#Compute the minimum, 25th percentile, median, 75th, and maximum of ser.\n",
    "#Input\n",
    "#ser = pd.Series(np.random.normal(10, 5, 25))\n",
    "import pandas as pd\n",
    "import numpy as np\n",
    "num_state = np.random.RandomState(100)\n",
    "num_series = pd.Series(np.random.normal(10, 5, 25))\n",
    "print(\"Original Series:\")\n",
    "print(num_series)\n",
    "result = np.percentile(num_series, q=[0, 25, 50, 75, 100])\n",
    "print(\"\\nMinimum, 25th percentile, median, 75th, and maximum of a given series:\")\n",
    "print(result)"
   ]
  },
  {
   "cell_type": "code",
   "execution_count": 8,
   "metadata": {},
   "outputs": [
    {
     "name": "stdout",
     "output_type": "stream",
     "text": [
      "0    [e, h, a, g, b, g, f, h, c, f, b, d, e, b, f, ...\n",
      "dtype: object\n"
     ]
    }
   ],
   "source": [
    "#How to get frequency counts of unique items of a series?\n",
    "#Calculte the frequency counts of each unique value ser.\n",
    "#Input\n",
    "#ser = pd.Series(np.take(list('abcdefgh'), np.random.randint(8, size=30)))\n",
    "# importing the module\n",
    "import pandas as pd\n",
    "\n",
    "# creating the series\n",
    "s = pd.Series(data = [np.take(list('abcdefgh'), np.random.randint(8, size=30))])\n",
    "\n",
    "# displaying the series\n",
    "print(s)\n",
    "\n",
    "# finding the unique count"
   ]
  },
  {
   "cell_type": "code",
   "execution_count": 9,
   "metadata": {},
   "outputs": [
    {
     "name": "stdout",
     "output_type": "stream",
     "text": [
      "Original Series:\n",
      "0     1\n",
      "1     2\n",
      "2     1\n",
      "3     1\n",
      "4     2\n",
      "5     3\n",
      "6     4\n",
      "7     1\n",
      "8     1\n",
      "9     2\n",
      "10    2\n",
      "11    1\n",
      "dtype: int32\n",
      "Top 2 Freq: 1    6\n",
      "2    4\n",
      "4    1\n",
      "3    1\n",
      "dtype: int64\n",
      "0         1\n",
      "1     Other\n",
      "2         1\n",
      "3         1\n",
      "4     Other\n",
      "5     Other\n",
      "6     Other\n",
      "7         1\n",
      "8         1\n",
      "9     Other\n",
      "10    Other\n",
      "11        1\n",
      "dtype: object\n"
     ]
    }
   ],
   "source": [
    "#How to keep only top 2 most frequent values as it is and replace everything else as ‘Other’?\n",
    "#From ser, keep the top 2 most frequent items as it is and replace everything else as ‘Other’.\n",
    "#Input\n",
    "#np.random.RandomState(100)\n",
    "#ser = pd.Series(np.random.randint(1, 5, [12]))\n",
    "import pandas as pd\n",
    "import numpy as np\n",
    "np.random.RandomState(100)\n",
    "ser = pd.Series(np.random.randint(1, 5, [12]))\n",
    "print(\"Original Series:\")\n",
    "print(ser)\n",
    "print(\"Top 2 Freq:\", ser.value_counts())\n",
    "result = ser[~ser.isin(ser.value_counts().index[:1])] = 'Other'\n",
    "print(ser)"
   ]
  },
  {
   "cell_type": "code",
   "execution_count": 10,
   "metadata": {},
   "outputs": [
    {
     "name": "stdout",
     "output_type": "stream",
     "text": [
      "0    0.393067\n",
      "1    0.459792\n",
      "2    0.213195\n",
      "3    0.374283\n",
      "4    0.459434\n",
      "dtype: float64\n"
     ]
    },
    {
     "data": {
      "text/plain": [
       "0    5th\n",
       "1    6th\n",
       "2    4th\n",
       "3    4th\n",
       "4    6th\n",
       "dtype: category\n",
       "Categories (10, object): ['1st' < '2nd' < '3rd' < '4th' ... '7th' < '8th' < '9th' < '10th']"
      ]
     },
     "execution_count": 10,
     "metadata": {},
     "output_type": "execute_result"
    }
   ],
   "source": [
    "#How to bin a numeric series to 10 groups of equal size?\n",
    "#Bin the series ser into 10 equal deciles and replace the values with the bin name.\n",
    "#Input\n",
    "#ser = pd.Series(np.random.random(20))\n",
    "ser = pd.Series(np.random.random(20))\n",
    "print(ser.head())\n",
    "pd.qcut(ser, q=[0, .10, .20, .3, .4, .5, .6, .7, .8, .9, 1], \n",
    "        labels=['1st', '2nd', '3rd', '4th', '5th', '6th', '7th', '8th', '9th', '10th']).head()"
   ]
  },
  {
   "cell_type": "code",
   "execution_count": 11,
   "metadata": {},
   "outputs": [
    {
     "name": "stdout",
     "output_type": "stream",
     "text": [
      "   0  1  2  3  4\n",
      "0  7  6  5  3  5\n",
      "1  6  8  8  1  3\n",
      "2  8  6  4  6  1\n",
      "3  5  9  7  5  8\n",
      "4  8  6  4  7  4\n",
      "5  8  5  9  7  5\n",
      "6  9  4  8  3  3\n"
     ]
    }
   ],
   "source": [
    "#How to convert a numpy array to a dataframe of given shape?\n",
    "\n",
    "#Reshape the series ser into a dataframe with 7 rows and 5 columns\n",
    "\n",
    "#Input\n",
    "\n",
    "#ser = pd.Series(np.random.randint(1, 10, 35))\n",
    "import pandas as pd\n",
    "ser = pd.Series(np.random.randint(1, 10, 35))\n",
    "df = pd.DataFrame(ser.values.reshape(7,5))\n",
    "print(df)"
   ]
  },
  {
   "cell_type": "code",
   "execution_count": 12,
   "metadata": {},
   "outputs": [
    {
     "name": "stdout",
     "output_type": "stream",
     "text": [
      "0    1\n",
      "1    8\n",
      "2    3\n",
      "3    7\n",
      "4    7\n",
      "5    1\n",
      "6    6\n",
      "dtype: int32\n"
     ]
    }
   ],
   "source": [
    "#How to find the positions of numbers that are multiples of 3 from a series?\n",
    "#Find the positions of numbers that are multiples of 3 from ser.\n",
    "# Input\n",
    "ser = pd.Series(np.random.randint(1, 10, 7))\n",
    "ser\n",
    "\n",
    "# Solution\n",
    "print(ser)\n"
   ]
  },
  {
   "cell_type": "code",
   "execution_count": 13,
   "metadata": {},
   "outputs": [
    {
     "name": "stdout",
     "output_type": "stream",
     "text": [
      "Original Series:\n",
      "0     a\n",
      "1     b\n",
      "2     c\n",
      "3     d\n",
      "4     e\n",
      "5     f\n",
      "6     g\n",
      "7     h\n",
      "8     i\n",
      "9     j\n",
      "10    k\n",
      "11    l\n",
      "12    m\n",
      "13    n\n",
      "14    o\n",
      "15    p\n",
      "16    q\n",
      "17    r\n",
      "18    s\n",
      "19    t\n",
      "20    u\n",
      "21    v\n",
      "22    w\n",
      "23    x\n",
      "24    y\n",
      "25    z\n",
      "dtype: object\n",
      "\n",
      "Extract items at given positions of the said series:\n",
      "0     a\n",
      "4     e\n",
      "8     i\n",
      "14    o\n",
      "20    u\n",
      "dtype: object\n"
     ]
    }
   ],
   "source": [
    "#How to extract items at given positions from a series\n",
    "\n",
    "#From ser, extract the items at positions in list pos.\n",
    "\n",
    "#Input\n",
    "\n",
    "#ser = pd.Series(list('abcdefghijklmnopqrstuvwxyz'))\n",
    "#pos = [0, 4, 8, 14, 20]\n",
    "import pandas as pd\n",
    "num_series = pd.Series(list('abcdefghijklmnopqrstuvwxyz'))\n",
    "element_pos = [0, 4, 8, 14, 20]\n",
    "print(\"Original Series:\")\n",
    "print(num_series)\n",
    "result = num_series.take(element_pos)\n",
    "print(\"\\nExtract items at given positions of the said series:\")\n",
    "print(result)"
   ]
  },
  {
   "cell_type": "code",
   "execution_count": 14,
   "metadata": {},
   "outputs": [
    {
     "name": "stdout",
     "output_type": "stream",
     "text": [
      "   0  1\n",
      "0  0  a\n",
      "1  1  b\n",
      "2  2  c\n",
      "3  3  d\n",
      "4  4  e\n"
     ]
    }
   ],
   "source": [
    "\n",
    "#How to stack two series vertically and horizontally ?\n",
    " \n",
    "#Stack ser1 and ser2 vertically and horizontally (to form a dataframe).\n",
    "\n",
    "#Input\n",
    "\n",
    "#ser1 = pd.Series(range(5))\n",
    "#ser2 = pd.Series(list('abcde'))\n",
    "# importing the module\n",
    "import pandas as pd\n",
    "# Input\n",
    "ser1 = pd.Series(range(5))\n",
    "ser2 = pd.Series(list('abcde'))\n",
    "ser1.append(ser2)\n",
    "df = pd.concat([ser1, ser2], axis=1)\n",
    "print(df)"
   ]
  },
  {
   "cell_type": "code",
   "execution_count": 15,
   "metadata": {},
   "outputs": [
    {
     "name": "stdout",
     "output_type": "stream",
     "text": [
      "Original Series:\n",
      "0    10\n",
      "1     9\n",
      "2     6\n",
      "3     5\n",
      "4     3\n",
      "5     1\n",
      "6    12\n",
      "7     8\n",
      "8    13\n",
      "dtype: int64\n",
      "0     1\n",
      "1     3\n",
      "2    10\n",
      "3    13\n",
      "dtype: int64\n",
      "Positions of items of series2 in series1:\n",
      "[5, 4, 0, 8]\n"
     ]
    }
   ],
   "source": [
    "\n",
    "#How to get the positions of items of series A in another series B?\n",
    "\n",
    "#Get the positions of items of ser2 in ser1 as a list.\n",
    "\n",
    "#Input\n",
    "#ser1 = pd.Series([10, 9, 6, 5, 3, 1, 12, 8, 13])\n",
    "#ser2 = pd.Series([1, 3, 10, 13])\n",
    "import pandas as pd\n",
    "series1 = pd.Series([10, 9, 6, 5, 3, 1, 12, 8, 13])\n",
    "series2 = pd.Series([1, 3, 10, 13])\n",
    "print(\"Original Series:\")\n",
    "print(series1)\n",
    "print(series2)\n",
    "result = [pd.Index(series1).get_loc(i) for i in series2]\n",
    "print(\"Positions of items of series2 in series1:\")\n",
    "print(result)"
   ]
  },
  {
   "cell_type": "code",
   "execution_count": 16,
   "metadata": {},
   "outputs": [
    {
     "data": {
      "text/plain": [
       "0.29226535597828074"
      ]
     },
     "execution_count": 16,
     "metadata": {},
     "output_type": "execute_result"
    }
   ],
   "source": [
    "#How to compute the mean squared error on a truth and predicted series?\n",
    "\n",
    "#Compute the mean squared error of truth and pred series.\n",
    "#Input\n",
    "\n",
    "#truth = pd.Series(range(10))\n",
    "#pred = pd.Series(range(10)) + np.random.random(10)\n",
    "truth = pd.Series(range(10))\n",
    "pred = pd.Series(range(10)) + np.random.random(10)\n",
    "np.mean((truth-pred)**2)"
   ]
  },
  {
   "cell_type": "code",
   "execution_count": 17,
   "metadata": {},
   "outputs": [
    {
     "name": "stdout",
     "output_type": "stream",
     "text": [
      "0     how\n",
      "1      to\n",
      "2    kick\n",
      "3    ass?\n",
      "dtype: object\n",
      "\n",
      "0     How\n",
      "1      To\n",
      "2    Kick\n",
      "3    Ass?\n",
      "dtype: object\n"
     ]
    }
   ],
   "source": [
    "\n",
    "#How to convert the first character of each element in a series to uppercase?\n",
    "\n",
    "#Change the first character of each word to upper case in each word of ser.\n",
    "\n",
    "#ser = pd.Series(['how', 'to', 'kick', 'ass?'])\n",
    "import pandas as pd\n",
    "ser = pd.Series(['how', 'to', 'kick', 'ass?'])\n",
    "print(ser.str.lower(), end ='\\n\\n')\n",
    "print(ser.str.capitalize())"
   ]
  },
  {
   "cell_type": "code",
   "execution_count": 18,
   "metadata": {},
   "outputs": [
    {
     "name": "stdout",
     "output_type": "stream",
     "text": [
      "Given Series:\n",
      "0     how\n",
      "1      to\n",
      "2    kick\n",
      "3    ass?\n",
      "dtype: object\n",
      "No. of characters in each word in the given series:\n",
      "0    3\n",
      "1    2\n",
      "2    4\n",
      "3    4\n",
      "dtype: int64\n"
     ]
    }
   ],
   "source": [
    "#How to calculate the number of characters in each word in a series?\n",
    "\n",
    "#Input\n",
    "\n",
    "#ser = pd.Series(['how', 'to', 'kick', 'ass?'])\n",
    "# Import pandas library\n",
    "import pandas as pd\n",
    "\n",
    "# Input series of words\n",
    "ser = pd.Series(['how', 'to', 'kick', 'ass?'])\n",
    "print(\"Given Series:\")\n",
    "print(ser)\n",
    "\n",
    "#Substituting values using map\n",
    "result = ser.map(lambda x: len(x))\n",
    "print(\"No. of characters in each word in the given series:\")\n",
    "print(result)"
   ]
  },
  {
   "cell_type": "code",
   "execution_count": 19,
   "metadata": {},
   "outputs": [
    {
     "name": "stdout",
     "output_type": "stream",
     "text": [
      "Original Series:\n",
      "0     1\n",
      "1     3\n",
      "2     6\n",
      "3    10\n",
      "4    15\n",
      "5    21\n",
      "6    27\n",
      "7    35\n",
      "dtype: int64\n",
      "\n",
      "Difference of differences between consecutive numbers of the said series:\n",
      "[nan, 2.0, 3.0, 4.0, 5.0, 6.0, 6.0, 8.0]\n",
      "[nan, nan, 1.0, 1.0, 1.0, 1.0, 0.0, 2.0]\n"
     ]
    }
   ],
   "source": [
    "\n",
    "#How to compute difference of differences between consequtive numbers of a series?\n",
    "\n",
    "#Difference of differences between the consequtive numbers of ser.\n",
    "\n",
    "#Input\n",
    "#ser = pd.Series([1, 3, 6, 10, 15, 21, 27, 35])\n",
    "import pandas as pd\n",
    "ser = pd.Series([1, 3, 6, 10, 15, 21, 27,35])\n",
    "print(\"Original Series:\")\n",
    "print(ser)\n",
    "print(\"\\nDifference of differences between consecutive numbers of the said series:\")\n",
    "print(ser.diff().tolist())\n",
    "print(ser.diff().diff().tolist())"
   ]
  },
  {
   "cell_type": "code",
   "execution_count": 20,
   "metadata": {},
   "outputs": [
    {
     "data": {
      "text/plain": [
       "0   2010-01-01 00:00:00\n",
       "1   2011-02-02 00:00:00\n",
       "2   2012-03-03 00:00:00\n",
       "3   2013-04-04 00:00:00\n",
       "4   2014-05-05 00:00:00\n",
       "5   2015-06-06 12:20:00\n",
       "dtype: datetime64[ns]"
      ]
     },
     "execution_count": 20,
     "metadata": {},
     "output_type": "execute_result"
    }
   ],
   "source": [
    "\n",
    "#How to convert a series of date-strings to a timeseries?\n",
    "\n",
    "#Input\n",
    "#ser = pd.Series(['01 Jan 2010', '02-02-2011', '20120303', '2013/04/04', '2014-05-05', '2015-06-06T12:20'])\n",
    "import pandas as pd\n",
    "# Input\n",
    "ser = pd.Series(['01 Jan 2010', '02-02-2011', '20120303', '2013/04/04', '2014-05-05', '2015-06-06T12:20'])\n",
    "\n",
    "# Solution 1\n",
    "from dateutil.parser import parse\n",
    "ser.map(lambda x: parse(x))\n",
    "\n",
    "# Solution 2\n",
    "pd.to_datetime(ser)"
   ]
  },
  {
   "cell_type": "code",
   "execution_count": 21,
   "metadata": {},
   "outputs": [
    {
     "name": "stdout",
     "output_type": "stream",
     "text": [
      "Original Series:\n",
      "0         01 Jan 2015\n",
      "1          10-02-2016\n",
      "2            20180307\n",
      "3          2014/05/06\n",
      "4          2016-04-12\n",
      "5    2019-04-06T11:20\n",
      "dtype: object\n",
      "Day of month:\n",
      "[1, 2, 7, 6, 12, 6]\n",
      "Day of year:\n",
      "[1, 276, 66, 126, 103, 96]\n",
      "Week number:\n",
      "[1, 39, 10, 19, 15, 14]\n",
      "Day of week:\n"
     ]
    },
    {
     "name": "stderr",
     "output_type": "stream",
     "text": [
      "<ipython-input-21-39e53d9ebea7>:16: FutureWarning: Series.dt.weekofyear and Series.dt.week have been deprecated.  Please use Series.dt.isocalendar().week instead.\n",
      "  print(date_series.dt.weekofyear.tolist())\n"
     ]
    },
    {
     "ename": "AttributeError",
     "evalue": "'DatetimeProperties' object has no attribute 'weekday_name'",
     "output_type": "error",
     "traceback": [
      "\u001b[1;31m---------------------------------------------------------------------------\u001b[0m",
      "\u001b[1;31mAttributeError\u001b[0m                            Traceback (most recent call last)",
      "\u001b[1;32m<ipython-input-21-39e53d9ebea7>\u001b[0m in \u001b[0;36m<module>\u001b[1;34m\u001b[0m\n\u001b[0;32m     16\u001b[0m \u001b[0mprint\u001b[0m\u001b[1;33m(\u001b[0m\u001b[0mdate_series\u001b[0m\u001b[1;33m.\u001b[0m\u001b[0mdt\u001b[0m\u001b[1;33m.\u001b[0m\u001b[0mweekofyear\u001b[0m\u001b[1;33m.\u001b[0m\u001b[0mtolist\u001b[0m\u001b[1;33m(\u001b[0m\u001b[1;33m)\u001b[0m\u001b[1;33m)\u001b[0m\u001b[1;33m\u001b[0m\u001b[1;33m\u001b[0m\u001b[0m\n\u001b[0;32m     17\u001b[0m \u001b[0mprint\u001b[0m\u001b[1;33m(\u001b[0m\u001b[1;34m\"Day of week:\"\u001b[0m\u001b[1;33m)\u001b[0m\u001b[1;33m\u001b[0m\u001b[1;33m\u001b[0m\u001b[0m\n\u001b[1;32m---> 18\u001b[1;33m \u001b[0mprint\u001b[0m\u001b[1;33m(\u001b[0m\u001b[0mdate_series\u001b[0m\u001b[1;33m.\u001b[0m\u001b[0mdt\u001b[0m\u001b[1;33m.\u001b[0m\u001b[0mweekday_name\u001b[0m\u001b[1;33m.\u001b[0m\u001b[0mtolist\u001b[0m\u001b[1;33m(\u001b[0m\u001b[1;33m)\u001b[0m\u001b[1;33m)\u001b[0m\u001b[1;33m\u001b[0m\u001b[1;33m\u001b[0m\u001b[0m\n\u001b[0m\u001b[0;32m     19\u001b[0m \u001b[1;33m\u001b[0m\u001b[0m\n",
      "\u001b[1;31mAttributeError\u001b[0m: 'DatetimeProperties' object has no attribute 'weekday_name'"
     ]
    }
   ],
   "source": [
    "\n",
    "#How to get the day of month, week number, day of year and day of week from a series of date strings?\n",
    "\n",
    "\n",
    "\n",
    "import pandas as pd\n",
    "from dateutil.parser import parse\n",
    "date_series = pd.Series(['01 Jan 2015', '10-02-2016', '20180307', '2014/05/06', '2016-04-12', '2019-04-06T11:20'])\n",
    "print(\"Original Series:\")\n",
    "print(date_series)\n",
    "date_series = date_series.map(lambda x: parse(x))\n",
    "print(\"Day of month:\")\n",
    "print(date_series.dt.day.tolist())\n",
    "print(\"Day of year:\")\n",
    "print(date_series.dt.dayofyear.tolist())\n",
    "print(\"Week number:\")\n",
    "print(date_series.dt.weekofyear.tolist())\n",
    "print(\"Day of week:\")\n",
    "print(date_series.dt.weekday_name.tolist())\n",
    "\n"
   ]
  },
  {
   "cell_type": "code",
   "execution_count": 22,
   "metadata": {},
   "outputs": [
    {
     "data": {
      "text/plain": [
       "['2010-01-04', '2011-02-04', '2012-03-04']"
      ]
     },
     "execution_count": 22,
     "metadata": {},
     "output_type": "execute_result"
    }
   ],
   "source": [
    "#How to convert year-month string to dates corresponding to the 4th day of the month?\n",
    "\n",
    "#Change ser to dates that start with 4th of the respective months.\n",
    "#Input\n",
    "\n",
    "#ser = pd.Series(['Jan 2010', 'Feb 2011', 'Mar 2012'])\n",
    "import pandas as pd\n",
    "import pandas as pd\n",
    "# Input\n",
    "ser = pd.Series(['Jan 2010', 'Feb 2011', 'Mar 2012'])\n",
    "\n",
    "# Solution 1\n",
    "from dateutil.parser import parse\n",
    "# Parse the date\n",
    "ser_ts = ser.map(lambda x: parse(x))\n",
    "\n",
    "# Construct date string with date as 4\n",
    "ser_datestr = ser_ts.dt.year.astype('str') + '-' + ser_ts.dt.month.astype('str') + '-' + '04'\n",
    "\n",
    "# Format it.\n",
    "[parse(i).strftime('%Y-%m-%d') for i in ser_datestr]"
   ]
  },
  {
   "cell_type": "code",
   "execution_count": 23,
   "metadata": {},
   "outputs": [
    {
     "name": "stdout",
     "output_type": "stream",
     "text": [
      "Original Series:\n",
      "0     Apple\n",
      "1    Orange\n",
      "2      plan\n",
      "3    python\n",
      "4     Money\n",
      "dtype: object\n",
      "\n",
      "Words containing atleast 2 vowels\n",
      "0     Apple\n",
      "1    Orange\n",
      "4     Money\n",
      "dtype: object\n"
     ]
    }
   ],
   "source": [
    "#How to filter words that contain atleast 2 vowels from a series?\n",
    "\n",
    "#From ser, extract words that contain atleast 2 vowels.\n",
    "#Input\n",
    "\n",
    "#ser = pd.Series(['Apple', 'Orange', 'Plan', 'Python', 'Money'])\n",
    "import pandas as pd\n",
    "from collections import Counter\n",
    "\n",
    "# creating a series of words\n",
    "ser = pd.Series(['Apple', 'Orange', 'plan', 'python','Money'])\n",
    "print(\"Original Series:\")\n",
    "print(ser)\n",
    "print(\"\\nWords containing atleast 2 vowels\")\n",
    "\n",
    "# mapping through the series and checking if count of vowels is >=2\n",
    "result = ser.map(lambda c: sum([Counter(c.lower()).get(i, 0)\n",
    "\t\t\t\t\t\t\t\tfor i in list('aeiou')]) >= 2)\n",
    "\n",
    "print(ser[result])"
   ]
  },
  {
   "cell_type": "code",
   "execution_count": 24,
   "metadata": {},
   "outputs": [
    {
     "name": "stdout",
     "output_type": "stream",
     "text": [
      "Valid Emails are: \n",
      "1    rameses@egypt.com\n",
      "2            matt@t.co\n",
      "3    narendra@modi.com\n",
      "dtype: object\n"
     ]
    }
   ],
   "source": [
    "#How to filter valid emails from a series?\n",
    "\n",
    "#Extract the valid emails from the series emails. The regex pattern for valid emails is provided as reference.\n",
    "\n",
    "#Input\n",
    "\n",
    "#emails = pd.Series(['buying books at amazom.com', 'rameses@egypt.com', 'matt@t.co', 'narendra@modi.com'])\n",
    "#pattern ='[A-Za-z0-9._%+-]+@[A-Za-z0-9.-]+\\\\.[A-Za-z]{2,4}'\n",
    "#importing pandas and regex libraries\n",
    "import pandas as pd\n",
    "import re as regex\n",
    "\n",
    "#initialiing pandas series\n",
    "emails = pd.Series(['buying books at amazom.com', 'rameses@egypt.com', 'matt@t.co', 'narendra@modi.com'])\n",
    "\n",
    "#initializing valid email pattern (may vary)\n",
    "pattern ='[A-Za-z0-9._%+-]+@[A-Za-z0-9.-]+\\\\.[A-Za-z]{2,4}'\n",
    "\n",
    "#mapping valid emails\n",
    "mapped_result = emails.map(lambda i: bool(regex.match(pattern, i)))\n",
    "\n",
    "print(\"Valid Emails are: \")\n",
    "print(emails[mapped_result])"
   ]
  },
  {
   "cell_type": "code",
   "execution_count": 25,
   "metadata": {},
   "outputs": [
    {
     "data": {
      "text/plain": [
       "apple     3.00\n",
       "banana    7.75\n",
       "carrot    4.20\n",
       "dtype: float64"
      ]
     },
     "execution_count": 25,
     "metadata": {},
     "output_type": "execute_result"
    }
   ],
   "source": [
    "#How to get the mean of a series grouped by another series?\n",
    "\n",
    "#Compute the mean of weights of each fruit.\n",
    "\n",
    "#Input\n",
    "\n",
    "#fruit = pd.Series(np.random.choice(['apple', 'banana', 'carrot'], 10))\n",
    "#weights = pd.Series(np.linspace(1, 10, 10))\n",
    "#print(weight.tolist())\n",
    "#print(fruit.tolist())\n",
    "#> [1.0, 2.0, 3.0, 4.0, 5.0, 6.0, 7.0, 8.0, 9.0, 10.0]\n",
    "#> ['banana', 'carrot', 'apple', 'carrot', 'carrot', 'apple', 'banana', 'carrot', 'apple', 'carrot']\n",
    "fruit = pd.Series(np.random.choice(['apple', 'banana', 'carrot'], 10))\n",
    "weights = pd.Series(np.linspace(1, 10, 10))\n",
    "weights.groupby(fruit).mean()"
   ]
  },
  {
   "cell_type": "code",
   "execution_count": 26,
   "metadata": {},
   "outputs": [
    {
     "name": "stdout",
     "output_type": "stream",
     "text": [
      "Original series:\n",
      "0     1\n",
      "1     2\n",
      "2     3\n",
      "3     4\n",
      "4     5\n",
      "5     6\n",
      "6     7\n",
      "7     8\n",
      "8     9\n",
      "9    10\n",
      "dtype: int64\n",
      "0    10\n",
      "1     9\n",
      "2     8\n",
      "3     7\n",
      "4     6\n",
      "5     5\n",
      "6     4\n",
      "7     3\n",
      "8     2\n",
      "9     1\n",
      "dtype: int64\n",
      "\n",
      "Euclidean distance between two said series:\n",
      "18.16590212458495\n"
     ]
    }
   ],
   "source": [
    "\n",
    "#How to compute the euclidean distance between two series?\n",
    "\n",
    "#Compute the euclidean distance between series (points) p and q, without using a packaged formula.\n",
    "\n",
    "#Input\n",
    "\n",
    "#p = pd.Series([1, 2, 3, 4, 5, 6, 7, 8, 9, 10])\n",
    "#q = pd.Series([10, 9, 8, 7, 6, 5, 4, 3, 2, 1])\n",
    "import pandas as pd\n",
    "import numpy as np\n",
    "p = pd.Series([1, 2, 3, 4, 5, 6, 7, 8, 9, 10])\n",
    "q = pd.Series([10, 9, 8, 7, 6, 5, 4, 3, 2, 1])\n",
    "print(\"Original series:\")\n",
    "print(p)\n",
    "print(q)\n",
    "print(\"\\nEuclidean distance between two said series:\")\n",
    "print(np.linalg.norm(p-q))"
   ]
  },
  {
   "cell_type": "code",
   "execution_count": 27,
   "metadata": {},
   "outputs": [
    {
     "data": {
      "text/plain": [
       "array([1, 5, 7], dtype=int64)"
      ]
     },
     "execution_count": 27,
     "metadata": {},
     "output_type": "execute_result"
    }
   ],
   "source": [
    "\n",
    "#How to find all the local maxima (or peaks) in a numeric series?\n",
    "\n",
    "#Get the positions of peaks (values surrounded by smaller values on both sides) in ser.\n",
    "\n",
    "#Input\n",
    "\n",
    "#ser = pd.Series([2, 10, 3, 4, 9, 10, 2, 7, 3])\n",
    "ser = pd.Series([2, 10, 3, 4, 9, 10, 2, 7, 3])\n",
    "dd = np.diff(np.sign(np.diff(ser)))\n",
    "peak_locs = np.where(dd == -2)[0] + 1\n",
    "peak_locs"
   ]
  },
  {
   "cell_type": "code",
   "execution_count": 28,
   "metadata": {},
   "outputs": [
    {
     "name": "stdout",
     "output_type": "stream",
     "text": [
      "d    4\n",
      "     3\n",
      "e    3\n",
      "b    3\n",
      "a    2\n",
      "c    1\n",
      "g    1\n",
      "dtype: int64\n"
     ]
    },
    {
     "data": {
      "text/plain": [
       "'dbcgdebgabedggade'"
      ]
     },
     "execution_count": 28,
     "metadata": {},
     "output_type": "execute_result"
    }
   ],
   "source": [
    "\n",
    "#How to replace missing spaces in a string with the least frequent character?\n",
    "\n",
    "#Replace the spaces in my_str with the least frequent character.\n",
    "\n",
    "#Difficiulty Level: L2\n",
    "\n",
    "#Input\n",
    "\n",
    "#my_str = 'dbc deb abed gade'\n",
    "# importing pandas library\n",
    "import pandas as pd\n",
    "# Input\n",
    "my_str = 'dbc deb abed gade'\n",
    "\n",
    "# Solution\n",
    "ser = pd.Series(list('dbc deb abed gade'))\n",
    "freq = ser.value_counts()\n",
    "print(freq)\n",
    "least_freq = freq.dropna().index[-1]\n",
    "\"\".join(ser.replace(' ', least_freq))"
   ]
  },
  {
   "cell_type": "code",
   "execution_count": 29,
   "metadata": {},
   "outputs": [
    {
     "data": {
      "text/plain": [
       "2000-01-01    9\n",
       "2000-01-08    6\n",
       "2000-01-15    6\n",
       "2000-01-22    5\n",
       "2000-01-29    6\n",
       "2000-02-05    9\n",
       "2000-02-12    4\n",
       "2000-02-19    9\n",
       "2000-02-26    2\n",
       "2000-03-04    6\n",
       "Freq: W-SAT, dtype: int32"
      ]
     },
     "execution_count": 29,
     "metadata": {},
     "output_type": "execute_result"
    }
   ],
   "source": [
    "#How to create a TimeSeries starting ‘2000-01-01’ and 10 weekends (saturdays) after that having random numbers as values?\n",
    "\n",
    "#Desired output\n",
    "\n",
    "# values can be random\n",
    "#2000-01-01    4\n",
    "#2000-01-08    1\n",
    "#2000-01-15    8\n",
    "#2000-01-22    4\n",
    "#2000-01-29    4\n",
    "#2000-02-05    2\n",
    "#2000-02-12    4\n",
    "#2000-02-19    9\n",
    "#2000-02-26    6\n",
    "#2000-03-04    6\n",
    "\n",
    "ser = pd.Series(np.random.randint(1,10,10), pd.date_range('2000-01-01', periods=10, freq='W-SAT'))\n",
    "ser"
   ]
  },
  {
   "cell_type": "code",
   "execution_count": 30,
   "metadata": {},
   "outputs": [
    {
     "data": {
      "text/plain": [
       "2000-01-01     1.0\n",
       "2000-01-02    10.0\n",
       "2000-01-03    10.0\n",
       "2000-01-04     3.0\n",
       "2000-01-05     3.0\n",
       "2000-01-06     3.0\n",
       "2000-01-07     3.0\n",
       "2000-01-08     3.0\n",
       "Freq: D, dtype: float64"
      ]
     },
     "execution_count": 30,
     "metadata": {},
     "output_type": "execute_result"
    }
   ],
   "source": [
    "#How to fill an intermittent time series so all missing dates show up with values of previous non-missing date?\n",
    "\n",
    "#ser has missing dates and values. Make all missing dates appear and fill up with value from previous date.\n",
    "\n",
    "#Input\n",
    "\n",
    "#ser = pd.Series([1,10,3,np.nan], index=pd.to_datetime(['2000-01-01', '2000-01-03', '2000-01-06', '2000-01-08']))\n",
    "#print(ser)\n",
    "#> 2000-01-01     1.0\n",
    "#> 2000-01-03    10.0\n",
    "#> 2000-01-06     3.0\n",
    "#> 2000-01-08     NaN\n",
    "#> dtype: float64\n",
    "# Input\n",
    "ser = pd.Series([1,10,3, np.nan], index=pd.to_datetime(['2000-01-01', '2000-01-03', '2000-01-06', '2000-01-08']))\n",
    "\n",
    "ser.resample('D').ffill()  # fill with previous value\n",
    "ser.resample('D').bfill()\n",
    "ser.resample('D').bfill().ffill()"
   ]
  },
  {
   "cell_type": "code",
   "execution_count": null,
   "metadata": {},
   "outputs": [],
   "source": []
  },
  {
   "cell_type": "code",
   "execution_count": null,
   "metadata": {},
   "outputs": [],
   "source": []
  }
 ],
 "metadata": {
  "kernelspec": {
   "display_name": "Python 3",
   "language": "python",
   "name": "python3"
  },
  "language_info": {
   "codemirror_mode": {
    "name": "ipython",
    "version": 3
   },
   "file_extension": ".py",
   "mimetype": "text/x-python",
   "name": "python",
   "nbconvert_exporter": "python",
   "pygments_lexer": "ipython3",
   "version": "3.8.5"
  }
 },
 "nbformat": 4,
 "nbformat_minor": 4
}
