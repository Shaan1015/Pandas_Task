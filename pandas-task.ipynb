{
 "cells": [
  {
   "cell_type": "code",
   "execution_count": 1,
   "metadata": {},
   "outputs": [
    {
     "name": "stdout",
     "output_type": "stream",
     "text": [
      "0    12\n",
      "1    24\n",
      "2    36\n",
      "3    48\n",
      "4    56\n",
      "dtype: int64\n"
     ]
    }
   ],
   "source": [
    "#Write a Pandas program to create and display a one-dimensional array-like object containing an array of data.\n",
    "import pandas as pd\n",
    "a = pd.Series([12,24,36,48,56])\n",
    "print(a)"
   ]
  },
  {
   "cell_type": "code",
   "execution_count": 2,
   "metadata": {},
   "outputs": [
    {
     "name": "stdout",
     "output_type": "stream",
     "text": [
      "0      8\n",
      "1     16\n",
      "2     32\n",
      "3     64\n",
      "4    128\n",
      "dtype: int64\n",
      "<class 'pandas.core.series.Series'>\n",
      "Convert Pandas Series to Python list\n",
      "[8, 16, 32, 64, 128]\n",
      "<class 'list'>\n"
     ]
    }
   ],
   "source": [
    "#Write a Pandas program to convert a Panda module Series to Python list and it’s type.\n",
    "\n",
    "b = pd.Series([8,16,32,64,128])\n",
    "print(b)\n",
    "print(type(b))\n",
    "print(\"Convert Pandas Series to Python list\")\n",
    "print(b.tolist())\n",
    "print(type(b.tolist()))"
   ]
  },
  {
   "cell_type": "code",
   "execution_count": 3,
   "metadata": {},
   "outputs": [
    {
     "name": "stdout",
     "output_type": "stream",
     "text": [
      "Add two Series:\n",
      "0     3\n",
      "1     7\n",
      "2    11\n",
      "3    15\n",
      "4    19\n",
      "dtype: int64\n",
      "Subtract two Series:\n",
      "0    1\n",
      "1    1\n",
      "2    1\n",
      "3    1\n",
      "4    1\n",
      "dtype: int64\n",
      "Multiply two Series:\n",
      "0     2\n",
      "1    12\n",
      "2    30\n",
      "3    56\n",
      "4    90\n",
      "dtype: int64\n",
      "Divide Series1 by Series2:\n",
      "0    2.000000\n",
      "1    1.333333\n",
      "2    1.200000\n",
      "3    1.142857\n",
      "4    1.111111\n",
      "dtype: float64\n"
     ]
    }
   ],
   "source": [
    "# Write a Pandas program to add, subtract, multiple and divide two Pandas Series.\n",
    "#Sample Series: [2, 4, 6, 8, 10], [1, 3, 5, 7, 9] \n",
    "s1 = pd.Series([2, 4, 6, 8, 10])\n",
    "s2 = pd.Series([1, 3, 5, 7, 9])\n",
    "s = s1 + s2\n",
    "print(\"Add two Series:\")\n",
    "print(s)\n",
    "print(\"Subtract two Series:\")\n",
    "s = s1 - s2\n",
    "print(s)\n",
    "print(\"Multiply two Series:\")\n",
    "s = s1 * s2\n",
    "print(s)\n",
    "print(\"Divide Series1 by Series2:\")\n",
    "s = s1 / s2\n",
    "print(s)"
   ]
  },
  {
   "cell_type": "code",
   "execution_count": 4,
   "metadata": {},
   "outputs": [
    {
     "name": "stdout",
     "output_type": "stream",
     "text": [
      "0     2\n",
      "1     4\n",
      "2     6\n",
      "3     8\n",
      "4    10\n",
      "dtype: int64\n",
      "0     1\n",
      "1     3\n",
      "2     5\n",
      "3     7\n",
      "4    10\n",
      "dtype: int64\n",
      "Elements which are Equals:\n",
      "0    False\n",
      "1    False\n",
      "2    False\n",
      "3    False\n",
      "4     True\n",
      "dtype: bool\n",
      "Elements which are Greater than:\n",
      "0     True\n",
      "1     True\n",
      "2     True\n",
      "3     True\n",
      "4    False\n",
      "dtype: bool\n",
      "Elements which are Less than:\n",
      "0    False\n",
      "1    False\n",
      "2    False\n",
      "3    False\n",
      "4    False\n",
      "dtype: bool\n"
     ]
    }
   ],
   "source": [
    "#Write a Pandas program to compare the elements of the two Pandas Series.\n",
    "# Sample Series: [2, 4, 6, 8, 10], [1, 3, 5, 7, 10]\n",
    "s1 = pd.Series([2, 4, 6, 8, 10])\n",
    "s2 = pd.Series([1, 3, 5, 7, 10])\n",
    "print(s1)\n",
    "print(s2)\n",
    "print(\"Elements which are Equals:\")\n",
    "print(s1 == s2)\n",
    "print(\"Elements which are Greater than:\")\n",
    "print(s1 > s2)\n",
    "print(\"Elements which are Less than:\")\n",
    "print(s1 < s2)"
   ]
  },
  {
   "cell_type": "code",
   "execution_count": 5,
   "metadata": {},
   "outputs": [
    {
     "name": "stdout",
     "output_type": "stream",
     "text": [
      "{'a': 100, 'b': 200, 'c': 300, 'd': 400, 'e': 800}\n",
      "Converted series:\n",
      "a    100\n",
      "b    200\n",
      "c    300\n",
      "d    400\n",
      "e    800\n",
      "dtype: int64\n"
     ]
    }
   ],
   "source": [
    "#Write a Pandas program to convert a dictionary to a Pandas series.\n",
    "#Sample Series:\n",
    "#Original dictionary:\n",
    "#{'a': 100, 'b': 200, 'c': 300, 'd': 400, 'e': 800}\n",
    "#Converted series: a 100 b 200 c 300 d 400 e 800 dtype: int64\n",
    "p = {'a': 100, 'b': 200, 'c':300, 'd':400, 'e':800}\n",
    "print(p)\n",
    "new_series = pd.Series(p)\n",
    "print(\"Converted series:\")\n",
    "print(new_series)"
   ]
  },
  {
   "cell_type": "code",
   "execution_count": 6,
   "metadata": {},
   "outputs": [
    {
     "name": "stdout",
     "output_type": "stream",
     "text": [
      "NumPy array:\n",
      "[10 20 30 40 50]\n",
      "Converted Pandas series:\n",
      "0    10\n",
      "1    20\n",
      "2    30\n",
      "3    40\n",
      "4    50\n",
      "dtype: int32\n"
     ]
    }
   ],
   "source": [
    "#Write a Pandas program to convert a NumPy array to a Pandas series.\n",
    "#Sample Series: NumPy array: [10 20 30 40 50]\n",
    "#Converted Pandas series: 0 10 1 20 2 30 3 40 4 50 dtype: int64 \n",
    "import numpy as np\n",
    "n = np.array([10, 20, 30, 40, 50])\n",
    "print(\"NumPy array:\")\n",
    "print(n)\n",
    "p = pd.Series(n)\n",
    "print(\"Converted Pandas series:\")\n",
    "print(p)"
   ]
  },
  {
   "cell_type": "code",
   "execution_count": 7,
   "metadata": {},
   "outputs": [
    {
     "name": "stdout",
     "output_type": "stream",
     "text": [
      "0       100\n",
      "1       200\n",
      "2    python\n",
      "3    300.12\n",
      "4       400\n",
      "dtype: object\n",
      "Change the said data type to numeric\n",
      "0    100.00\n",
      "1    200.00\n",
      "2       NaN\n",
      "3    300.12\n",
      "4    400.00\n",
      "dtype: float64\n"
     ]
    }
   ],
   "source": [
    "#Write a Pandas program to change the data type of given a column or a Series.\n",
    "#Sample Series:\n",
    "#Original Data Series: 0 100 1 200 2 python 3 300.12 4 400 dtype: object\n",
    "#Change the said data type to numeric: 0 100.00 1 200.00 2 NaN 3 300.12 4 400.00 dtype: float64\n",
    "s = pd.Series(['100', '200', 'python', '300.12', '400'])\n",
    "print(s)\n",
    "print(\"Change the said data type to numeric\")\n",
    "si = pd.to_numeric(s, errors='coerce')\n",
    "print(si)"
   ]
  },
  {
   "cell_type": "code",
   "execution_count": 8,
   "metadata": {},
   "outputs": [
    {
     "name": "stdout",
     "output_type": "stream",
     "text": [
      "   col1  col2  col3\n",
      "0     1     4     7\n",
      "1     2     5     5\n",
      "2     3     6     8\n",
      "3     4     9    12\n",
      "4     7     5     1\n",
      "5    11     0    11\n",
      "\n",
      "1st column as a Series:\n",
      "0     1\n",
      "1     2\n",
      "2     3\n",
      "3     4\n",
      "4     7\n",
      "5    11\n",
      "Name: col1, dtype: int64\n",
      "<class 'pandas.core.series.Series'>\n"
     ]
    }
   ],
   "source": [
    "#Write a Pandas program to convert the first column of a DataFrame as a Series.\n",
    "#Sample Output:\n",
    "#Original DataFrame col1 col2 col3 0 1 4 7 1 2 5 5 2 3 6 8 3 4 9 12 4 7 5 1 5 11 0 11\n",
    "#1st column as a Series: 0 1 1 2 2 3 3 4 4 7 5 11 Name: col1, dtype: int64 <class 'pandas.core.series.Series'>\n",
    "a = {'col1': [1, 2, 3, 4, 7, 11], 'col2': [4, 5, 6, 9, 5, 0], 'col3': [7, 5, 8, 12, 1,11]}\n",
    "b = pd.DataFrame(data=a)\n",
    "print(b)\n",
    "s1 = b.iloc[:,0]\n",
    "print(\"\\n1st column as a Series:\")\n",
    "print(s1)\n",
    "print(type(s1))"
   ]
  },
  {
   "cell_type": "code",
   "execution_count": 9,
   "metadata": {},
   "outputs": [
    {
     "name": "stdout",
     "output_type": "stream",
     "text": [
      "0       100\n",
      "1       200\n",
      "2    python\n",
      "3    300.12\n",
      "4       400\n",
      "dtype: object\n",
      "Series to an array\n",
      "['100' '200' 'python' '300.12' '400']\n"
     ]
    }
   ],
   "source": [
    "#Write a Pandas program to convert a given Series to an array.\n",
    "#Sample Output:\n",
    "#Original Data Series: 0 100 1 200 2 python 3 300.12 4 400 dtype: object\n",
    "#Series to an array ['100' '200' 'python' '300.12' '400']\n",
    "s1 = pd.Series(['100', '200', 'python', '300.12', '400'])\n",
    "print(s1)\n",
    "print(\"Series to an array\")\n",
    "r = np.array(s1.values.tolist())\n",
    "print (r)"
   ]
  },
  {
   "cell_type": "code",
   "execution_count": 10,
   "metadata": {},
   "outputs": [
    {
     "name": "stdout",
     "output_type": "stream",
     "text": [
      "0    [Red, Green, White]\n",
      "1           [Red, Black]\n",
      "2               [Yellow]\n",
      "dtype: object\n",
      "One Series\n",
      "0       Red\n",
      "1     Green\n",
      "2     White\n",
      "3       Red\n",
      "4     Black\n",
      "5    Yellow\n",
      "dtype: object\n"
     ]
    }
   ],
   "source": [
    "#Write a Pandas program to convert Series of lists to one Series.\n",
    "#Sample Output:\n",
    "#Original Series of list 0 [Red, Green, White] 1 [Red, Black] 2 [Yellow] dtype: object\n",
    "#One Series 0 Red 1 Green 2 White 3 Red 4 Black 5 Yellow dtype: object\n",
    "si = pd.Series([\n",
    "    ['Red', 'Green', 'White'],\n",
    "    ['Red', 'Black'],\n",
    "    ['Yellow']])\n",
    "print(si)\n",
    "si = si.apply(pd.Series).stack().reset_index(drop=True)\n",
    "print(\"One Series\")\n",
    "print(si)"
   ]
  },
  {
   "cell_type": "code",
   "execution_count": 11,
   "metadata": {},
   "outputs": [
    {
     "name": "stdout",
     "output_type": "stream",
     "text": [
      "0       100\n",
      "1       200\n",
      "2    python\n",
      "3    300.12\n",
      "4       400\n",
      "dtype: object\n",
      "0       100\n",
      "1       200\n",
      "3    300.12\n",
      "4       400\n",
      "2    python\n",
      "dtype: object\n"
     ]
    }
   ],
   "source": [
    "#Write a Pandas program to sort a given Series.\n",
    "#Sample Output:\n",
    "#Original Data Series: 0 100 1 200 2 python 3 300.12 4 400 dtype: object 0 100 1 200 3 300.12 4 400 2 python dtype: object\n",
    "q = pd.Series(['100', '200', 'python', '300.12', '400'])\n",
    "print(q)\n",
    "sh = pd.Series(q).sort_values()\n",
    "print(sh)"
   ]
  },
  {
   "cell_type": "code",
   "execution_count": 12,
   "metadata": {},
   "outputs": [
    {
     "name": "stdout",
     "output_type": "stream",
     "text": [
      "0       100\n",
      "1       200\n",
      "2    python\n",
      "3    300.12\n",
      "4       400\n",
      "dtype: object\n",
      "\n",
      "Data Series after adding some data:\n",
      "0       100\n",
      "1       200\n",
      "2    python\n",
      "3    300.12\n",
      "4       400\n",
      "0       500\n",
      "1       php\n",
      "dtype: object\n"
     ]
    }
   ],
   "source": [
    "#Write a Pandas program to add some data to an existing Series.\n",
    "#Sample Output:\n",
    "#Original Data Series: 0 100 1 200 2 python 3 300.12 4 400 dtype: object\n",
    "#Data Series after adding some data: 0 100 1 200 2 python 3 300.12 4 400 0 500 1 php dtype: object \n",
    "ri = pd.Series(['100', '200', 'python', '300.12', '400'])\n",
    "print(ri)\n",
    "print(\"\\nData Series after adding some data:\")\n",
    "an = ri.append(pd.Series(['500', 'php']))\n",
    "print(an)"
   ]
  },
  {
   "cell_type": "code",
   "execution_count": 13,
   "metadata": {},
   "outputs": [
    {
     "name": "stdout",
     "output_type": "stream",
     "text": [
      "0      0\n",
      "1      1\n",
      "2      2\n",
      "3      3\n",
      "4      4\n",
      "5      5\n",
      "6      6\n",
      "7      7\n",
      "8      8\n",
      "9      9\n",
      "10    10\n",
      "dtype: int64\n",
      "\n",
      "Subset of the above Data Series:\n",
      "0    0\n",
      "1    1\n",
      "2    2\n",
      "3    3\n",
      "4    4\n",
      "5    5\n",
      "6    6\n",
      "7    7\n",
      "dtype: int64\n"
     ]
    }
   ],
   "source": [
    "#Write a Pandas program to create a subset of a given series based on value and condition.\n",
    "#Sample Output:\n",
    "#Original Data Series: 0 0 1 1 2 2 3 3 4 4 5 5 6 6 7 7 8 8 9 9 10 10 dtype: int64\n",
    "#Subset of the above Data Series: 0 0 1 1 2 2 3 3 4 4 5 5 dtype: int64 \n",
    "a = pd.Series([0, 1,2,3,4,5,6,7,8,9,10])\n",
    "print(a)\n",
    "print(\"\\nSubset of the above Data Series:\")\n",
    "n = 8\n",
    "si = a[a < n]\n",
    "print(si)"
   ]
  },
  {
   "cell_type": "code",
   "execution_count": 14,
   "metadata": {},
   "outputs": [
    {
     "name": "stdout",
     "output_type": "stream",
     "text": [
      "Original Data Series:\n",
      "A    1\n",
      "B    2\n",
      "C    3\n",
      "D    4\n",
      "E    5\n",
      "dtype: int64\n",
      "Data Series after changing the order of index:\n",
      "E    5\n",
      "D    4\n",
      "C    3\n",
      "B    2\n",
      "A    1\n",
      "dtype: int64\n"
     ]
    }
   ],
   "source": [
    "#Write a Pandas program to change the order of index of a given series.\n",
    "#Sample Output:\n",
    "#Original Data Series: A 1 B 2 C 3 D 4 E 5 dtype: int64\n",
    "#Data Series after changing the order of index: B 2 A 1 C 3 D 4 E 5 dtype: int64\n",
    "s = pd.Series(data = [1,2,3,4,5], index = ['A', 'B', 'C','D','E'])\n",
    "print(\"Original Data Series:\")\n",
    "print(s)\n",
    "s = s.reindex(index = ['E','D','C','B','A'])\n",
    "print(\"Data Series after changing the order of index:\")\n",
    "print(s)"
   ]
  },
  {
   "cell_type": "code",
   "execution_count": 15,
   "metadata": {},
   "outputs": [
    {
     "name": "stdout",
     "output_type": "stream",
     "text": [
      "0     1\n",
      "1     2\n",
      "2     3\n",
      "3     4\n",
      "4     5\n",
      "5     6\n",
      "6     7\n",
      "7     8\n",
      "8     9\n",
      "9     5\n",
      "10    3\n",
      "dtype: int64\n",
      "Mean of the said Data Series:\n",
      "4.818181818181818\n",
      "Standard deviation of the said Data Series:\n",
      "2.522624895547565\n"
     ]
    }
   ],
   "source": [
    "#Write a Pandas program to create the mean and standard deviation of the data of a given Series.\n",
    "#Sample Output:\n",
    "#Original Data Series: 0 1 1 2 2 3 3 4 4 5 5 6 6 7 7 8 8 9 9 5 10 3 dtype: int64\n",
    "#Mean of the said Data Series: 4.818181818181818\n",
    "#Standard deviation of the said Data Series: 2.522624895547565 \n",
    "s1 = pd.Series(data = [1,2,3,4,5,6,7,8,9,5,3])\n",
    "print(s1)\n",
    "print(\"Mean of the said Data Series:\")\n",
    "print(s1.mean())\n",
    "print(\"Standard deviation of the said Data Series:\")\n",
    "print(s1.std())"
   ]
  },
  {
   "cell_type": "code",
   "execution_count": 16,
   "metadata": {},
   "outputs": [
    {
     "name": "stdout",
     "output_type": "stream",
     "text": [
      "0    1\n",
      "1    2\n",
      "2    3\n",
      "3    4\n",
      "4    5\n",
      "dtype: int64\n",
      "0     2\n",
      "1     4\n",
      "2     6\n",
      "3     8\n",
      "4    10\n",
      "dtype: int64\n",
      "\n",
      "Items of sr1 not present in sr2:\n",
      "0    1\n",
      "2    3\n",
      "4    5\n",
      "dtype: int64\n"
     ]
    }
   ],
   "source": [
    "#Write a Pandas program to get the items of a given series not present in another given series.\n",
    "#Sample Output:\n",
    "#Original Series:\n",
    "#sr1: 0 1 1 2 2 3 3 4 4 5 dtype: int64\n",
    "#sr2: 0 2 1 4 2 6 3 8 4 10 dtype: int64\n",
    "#Items of sr1 not present in sr2: 0 1 2 3 4 5 dtype: int64\n",
    "sr1 = pd.Series([1, 2, 3, 4, 5])\n",
    "sr2 = pd.Series([2, 4, 6, 8, 10])\n",
    "print(sr1)\n",
    "print(sr2)\n",
    "print(\"\\nItems of sr1 not present in sr2:\")\n",
    "res = sr1[~sr1.isin(sr2)]\n",
    "print(res)"
   ]
  },
  {
   "cell_type": "code",
   "execution_count": 17,
   "metadata": {},
   "outputs": [
    {
     "name": "stdout",
     "output_type": "stream",
     "text": [
      "0    1\n",
      "1    2\n",
      "2    3\n",
      "3    4\n",
      "4    5\n",
      "dtype: int64\n",
      "0     2\n",
      "1     4\n",
      "2     6\n",
      "3     8\n",
      "4    10\n",
      "dtype: int64\n",
      "\n",
      "Items of a given series not present in another given series:\n",
      "0     1\n",
      "2     3\n",
      "4     5\n",
      "5     6\n",
      "6     8\n",
      "7    10\n",
      "dtype: int64\n"
     ]
    }
   ],
   "source": [
    "#Write a Pandas program to get the items which are not common of two given series.\n",
    "#Sample Output:\n",
    "#Original Series:\n",
    "#sr1: 0 1 1 2 2 3 3 4 4 5 dtype: int64\n",
    "#sr2: 0 2 1 4 2 6 3 8 4 10 dtype: int64\n",
    "#Items of a given series not present in another given series: 0 1 2 3 4 5 5 6 6 8 7 10 dtype: int64 \n",
    "sr1 = pd.Series([1, 2, 3, 4, 5])\n",
    "sr2 = pd.Series([2, 4, 6, 8, 10])\n",
    "print(sr1)\n",
    "print(sr2)\n",
    "print(\"\\nItems of a given series not present in another given series:\")\n",
    "ri = pd.Series(np.union1d(sr1, sr2))\n",
    "an = pd.Series(np.intersect1d(sr1, sr2))\n",
    "result = ri[~ri.isin(an)]\n",
    "print(result)"
   ]
  },
  {
   "cell_type": "code",
   "execution_count": 18,
   "metadata": {},
   "outputs": [
    {
     "name": "stdout",
     "output_type": "stream",
     "text": [
      "0      3.000938\n",
      "1     11.370722\n",
      "2     14.612143\n",
      "3      8.990256\n",
      "4     13.925283\n",
      "5     12.056875\n",
      "6     10.884719\n",
      "7      5.719827\n",
      "8      9.242017\n",
      "9     11.020006\n",
      "10     8.167892\n",
      "11    11.740654\n",
      "12     7.665620\n",
      "13    13.267388\n",
      "14    12.690883\n",
      "15     9.582355\n",
      "16     7.874878\n",
      "17    14.118931\n",
      "18     8.247458\n",
      "19     5.526727\n",
      "dtype: float64\n",
      "\n",
      "Minimum, 25th percentile, median, 75th, and maximum of a given series:\n",
      "[ 3.00093811  8.09463867 10.23353705 12.21537733 14.61214321]\n"
     ]
    }
   ],
   "source": [
    "#Write a Pandas program to compute the minimum, 25th percentile, median, 75th, and maximum of a given series.\n",
    "#Sample Output:\n",
    "#Original Series: 0 3.000938 1 11.370722 2 14.612143 3 8.990256 4 13.925283 5 12.056875 .... 17 14.118931 18 8.247458 19 5.526727 dtype: float64\n",
    "#Minimum, 25th percentile, median, 75th, and maximum of a given series: [ 3.00093811 8.09463867 10.23353705 12.21537733 14.61214321] \n",
    "numstate = np.random.RandomState(100)\n",
    "numseries = pd.Series(numstate.normal(10, 4, 20))\n",
    "print(numseries)\n",
    "result = np.percentile(numseries, q=[0, 25, 50, 75, 100])\n",
    "print(\"\\nMinimum, 25th percentile, median, 75th, and maximum of a given series:\")\n",
    "print(result)"
   ]
  },
  {
   "cell_type": "code",
   "execution_count": 19,
   "metadata": {},
   "outputs": [
    {
     "name": "stdout",
     "output_type": "stream",
     "text": [
      "0     7\n",
      "1     6\n",
      "2     9\n",
      "3     8\n",
      "4     1\n",
      "5     1\n",
      "6     3\n",
      "7     4\n",
      "8     9\n",
      "9     9\n",
      "10    1\n",
      "11    1\n",
      "12    8\n",
      "13    4\n",
      "14    1\n",
      "15    8\n",
      "16    0\n",
      "17    5\n",
      "18    5\n",
      "19    9\n",
      "20    4\n",
      "21    9\n",
      "22    7\n",
      "23    2\n",
      "24    5\n",
      "25    9\n",
      "26    1\n",
      "27    7\n",
      "28    0\n",
      "29    6\n",
      "30    3\n",
      "31    2\n",
      "32    6\n",
      "33    9\n",
      "34    7\n",
      "35    1\n",
      "36    1\n",
      "37    9\n",
      "38    6\n",
      "39    7\n",
      "dtype: object\n",
      "Frequency of each unique value of the said series.\n",
      "1    8\n",
      "9    8\n",
      "7    5\n",
      "6    4\n",
      "8    3\n",
      "5    3\n",
      "4    3\n",
      "2    2\n",
      "0    2\n",
      "3    2\n",
      "dtype: int64\n"
     ]
    }
   ],
   "source": [
    "#Write a Pandas program to calculate the frequency counts of each unique value of a given series.\n",
    "#Sample Output:\n",
    "#Original Series: 0 1 1 7 2 1 3 6 4 9 5 1 ... 29 2 30 9 31 1 32 2 33 9 34 2 35 9 36 0 37 0 38 4 39 8 dtype: object\n",
    "#Frequency of each unique value of the said series. 0 9 2 7 9 6 1 5 6 3 8 3 7 3 3 2 4 1 5 1 dtype: int64 \n",
    "num_series = pd.Series(np.take(list('0123456789'), np.random.randint(10, size=40)))\n",
    "print(num_series)\n",
    "print(\"Frequency of each unique value of the said series.\")\n",
    "result = num_series.value_counts()\n",
    "print(result)"
   ]
  },
  {
   "cell_type": "code",
   "execution_count": 21,
   "metadata": {},
   "outputs": [
    {
     "name": "stdout",
     "output_type": "stream",
     "text": [
      "0     4\n",
      "1     4\n",
      "2     2\n",
      "3     1\n",
      "4     2\n",
      "5     1\n",
      "6     2\n",
      "7     3\n",
      "8     1\n",
      "9     3\n",
      "10    4\n",
      "11    2\n",
      "12    2\n",
      "13    4\n",
      "14    4\n",
      "dtype: int32\n",
      "Top 2 Freq: 4    5\n",
      "2    5\n",
      "1    3\n",
      "3    2\n",
      "dtype: int64\n",
      "0         4\n",
      "1         4\n",
      "2     Other\n",
      "3     Other\n",
      "4     Other\n",
      "5     Other\n",
      "6     Other\n",
      "7     Other\n",
      "8     Other\n",
      "9     Other\n",
      "10        4\n",
      "11    Other\n",
      "12    Other\n",
      "13        4\n",
      "14        4\n",
      "dtype: object\n"
     ]
    }
   ],
   "source": [
    "#Write a Pandas program to display most frequent value in a given series and replace everything else as 'Other' in the series.\n",
    "#Sample Output:\n",
    "#Original Series: 0 3 1 1 2 1 3 3 4 2 5 2 6 1 7 2 8 3 9 1 10 2 11 2 12 2 13 3 14 3 dtype: int64\n",
    "#Top 2 Freq: 2 6 3 5 1 4 dtype: int64 0 Other 1 Other 2 Other 3 Other 4 2 5 2 6 Other 7 2 8 Other 9 Other 10 2 11 2 12 2 13 Other 14 Other dtype: object\n",
    "np.random.RandomState(100)\n",
    "num_series = pd.Series(np.random.randint(1, 5, [15]))\n",
    "print(num_series)\n",
    "print(\"Top 2 Freq:\", num_series.value_counts())\n",
    "result = num_series[~num_series.isin(num_series.value_counts().index[:1])] = 'Other'\n",
    "print(num_series)"
   ]
  },
  {
   "cell_type": "code",
   "execution_count": null,
   "metadata": {},
   "outputs": [],
   "source": []
  }
 ],
 "metadata": {
  "kernelspec": {
   "display_name": "Python 3",
   "language": "python",
   "name": "python3"
  },
  "language_info": {
   "codemirror_mode": {
    "name": "ipython",
    "version": 3
   },
   "file_extension": ".py",
   "mimetype": "text/x-python",
   "name": "python",
   "nbconvert_exporter": "python",
   "pygments_lexer": "ipython3",
   "version": "3.8.5"
  }
 },
 "nbformat": 4,
 "nbformat_minor": 4
}
