{
 "cells": [
  {
   "cell_type": "markdown",
   "metadata": {},
   "source": [
    "# 1.How to create lags and leads of a column in a dataframe?\n",
    " \n",
    " * Create two new columns in df, one of which is a lag1 (shift column a down by 1 row) of column ‘a’ and the other is a lead1      (shift column b up by 1 row).\n",
    "\n",
    " * Input\n",
    "\n",
    " * df = pd.DataFrame(np.random.randint(1, 100, 20).reshape(-1, 4), columns = list('abcd'))\n",
    "\n",
    "* a b c d\n",
    "\n",
    "* 0 66 34 76 47\n",
    "\n",
    "* 1 20 86 10 81\n",
    "* 2 75 73 51 28\n",
    "* 3 1 1 9 83\n",
    "* 4 30 47 67 4"
   ]
  },
  {
   "cell_type": "code",
   "execution_count": 1,
   "metadata": {},
   "outputs": [
    {
     "name": "stdout",
     "output_type": "stream",
     "text": [
      "    a   b   c   d  a_lag1  b_lead1\n",
      "0  83  51  91  22     NaN     86.0\n",
      "1  74  86  15  70    83.0     63.0\n",
      "2  79  63  11  82    74.0     48.0\n",
      "3  43  48  85  11    79.0     27.0\n",
      "4  29  27  82  89    43.0      NaN\n"
     ]
    }
   ],
   "source": [
    "import pandas as pd\n",
    "import numpy as np\n",
    "df = pd.DataFrame(np.random.randint(1, 100, 20).reshape(-1, 4), columns = list('abcd'))\n",
    "df['a_lag1'] = df['a'].shift(1)\n",
    "df['b_lead1'] = df['b'].shift(-1)\n",
    "print(df)"
   ]
  },
  {
   "cell_type": "markdown",
   "metadata": {},
   "source": [
    "# 2.How to get the frequency of unique values in the entire dataframe?\n",
    "\n",
    "* Get the frequency of unique values in the entire dataframe df.\n",
    "* Input\n",
    "* df = pd.DataFrame(np.random.randint(1, 10, 20).reshape(-1, 4), columns = list('abcd'))"
   ]
  },
  {
   "cell_type": "code",
   "execution_count": 2,
   "metadata": {},
   "outputs": [
    {
     "name": "stdout",
     "output_type": "stream",
     "text": [
      "7    4\n",
      "3    4\n",
      "5    3\n",
      "6    2\n",
      "2    2\n",
      "1    2\n",
      "9    1\n",
      "8    1\n",
      "4    1\n",
      "dtype: int64\n"
     ]
    }
   ],
   "source": [
    "df = pd.DataFrame(np.random.randint(1, 10, 20).reshape(-1, 4), columns = list('abcd'))\n",
    "print(pd.value_counts(df.values.ravel()))"
   ]
  },
  {
   "cell_type": "markdown",
   "metadata": {},
   "source": [
    "# 3.How to split a text column into two separate columns?\n",
    "\n",
    "* Split the string column in df to form a dataframe with 3 columns as shown.\n",
    "* Input\n",
    "* df = pd.DataFrame([\"STD, City State\",\"33, Kolkata West Bengal\",\"44, Chennai Tamil Nadu\",\"40, Hyderabad Telengana\",\"80, *       Bangalore Karnataka\"], columns=['row'])"
   ]
  },
  {
   "cell_type": "code",
   "execution_count": 12,
   "metadata": {},
   "outputs": [
    {
     "name": "stdout",
     "output_type": "stream",
     "text": [
      "                          row\n",
      "0          STD, City    State\n",
      "1  33, Kolkata    West Bengal\n",
      "2   44, Chennai    Tamil Nadu\n",
      "3  40, Hyderabad    Telengana\n",
      "4  80, Bangalore    Karnataka\n"
     ]
    }
   ],
   "source": [
    "df = pd.DataFrame([\"STD, City    State\",\n",
    "\"33, Kolkata    West Bengal\",\n",
    "\"44, Chennai    Tamil Nadu\",\n",
    "\"40, Hyderabad    Telengana\",\n",
    "\"80, Bangalore    Karnataka\"], columns=['row'])\n",
    "\n",
    "df_out = df.row.str.split(',|\\t',expand=True)\n",
    "print(df)"
   ]
  },
  {
   "cell_type": "markdown",
   "metadata": {},
   "source": [
    "# 4.How to join two dataframes by 2 columns so they have only the common rows?\n",
    "\n",
    "* Join dataframes df1 and df2 by ‘fruit-pazham’ and ‘weight-kilo’.\n",
    "* Input\n",
    "* df1 = pd.DataFrame({'fruit': ['apple', 'banana', 'orange'] * 3,\n",
    "        'weight': ['high', 'medium', 'low'] * 3,\n",
    "        'price': np.random.randint(0, 15, 9)})\n",
    "* df2 = pd.DataFrame({'pazham': ['apple', 'orange', 'pine'] * 2,\n",
    "\n",
    "        'kilo': ['high', 'low'] * 3,\n",
    "        'price': np.random.randint(0, 15, 6)})"
   ]
  },
  {
   "cell_type": "code",
   "execution_count": 13,
   "metadata": {},
   "outputs": [
    {
     "name": "stdout",
     "output_type": "stream",
     "text": [
      "    fruit weight  price_left  pazham  kilo  price_right\n",
      "0   apple   high          10   apple  high            6\n",
      "1   apple   high           7   apple  high            6\n",
      "2   apple   high           2   apple  high            6\n",
      "3  orange    low           8  orange   low            4\n",
      "4  orange    low          12  orange   low            4\n",
      "5  orange    low           3  orange   low            4\n"
     ]
    }
   ],
   "source": [
    "import pandas as pd \n",
    "import numpy as np\n",
    "\n",
    "df1 = pd.DataFrame({'fruit': ['apple', 'banana', 'orange'] * 3,\n",
    "                    'weight': ['high', 'medium', 'low'] * 3,\n",
    "                    'price': np.random.randint(0, 15, 9)})\n",
    "\n",
    "df2 = pd.DataFrame({'pazham': ['apple', 'orange', 'pine'] * 2,\n",
    "                    'kilo': ['high', 'low'] * 3,\n",
    "                    'price': np.random.randint(0, 15, 6)})\n",
    "out = df1.merge(df2,left_on=('fruit','weight'),right_on=('pazham','kilo'),how='inner',suffixes=('_left','_right')).head(10)\n",
    "print(out)"
   ]
  },
  {
   "cell_type": "markdown",
   "metadata": {},
   "source": [
    "# 5.How to get the positions where values of two columns match?"
   ]
  },
  {
   "cell_type": "code",
   "execution_count": 14,
   "metadata": {},
   "outputs": [
    {
     "name": "stdout",
     "output_type": "stream",
     "text": [
      "   fruit1  fruit2\n",
      "0  orange   apple\n",
      "1  orange  orange\n",
      "2   apple  banana\n",
      "3  orange  orange\n",
      "4  orange  orange\n",
      "5  banana  banana\n",
      "6  orange  orange\n",
      "7  banana   apple\n",
      "8  orange  banana\n",
      "9  orange  orange\n"
     ]
    }
   ],
   "source": [
    "df = pd.DataFrame({'fruit1': np.random.choice(['apple', 'orange', 'banana'], 10),\n",
    "                    'fruit2': np.random.choice(['apple', 'orange', 'banana'], 10)})\n",
    "\n",
    "np.where(df.fruit1 == df.fruit2)\n",
    "print(df)"
   ]
  },
  {
   "cell_type": "markdown",
   "metadata": {},
   "source": [
    "# 6.How to compute grouped mean on pandas dataframe and keep the grouped column as another column (not index)?\n",
    "\n",
    "* In df, Compute the mean price of every fruit, while keeping the fruit as another column instead of an index.\n",
    "* Input\n",
    "* df = pd.DataFrame({'fruit': ['apple', 'banana', 'orange'] * 3,\n",
    "\n",
    "       'rating': np.random.rand(9),\n",
    "       'price': np.random.randint(0, 15, 9)})"
   ]
  },
  {
   "cell_type": "code",
   "execution_count": 15,
   "metadata": {},
   "outputs": [
    {
     "name": "stdout",
     "output_type": "stream",
     "text": [
      "    fruit     price\n",
      "0   apple  7.000000\n",
      "1  banana  8.666667\n",
      "2  orange  9.333333\n"
     ]
    }
   ],
   "source": [
    "df = pd.DataFrame({'fruit': ['apple', 'banana', 'orange'] * 3,\n",
    "                   'rating': np.random.rand(9),\n",
    "                   'price': np.random.randint(0, 15, 9)})\n",
    "\n",
    "out = df.groupby('fruit', as_index=False)['price'].mean()\n",
    "print(out)"
   ]
  },
  {
   "cell_type": "markdown",
   "metadata": {},
   "source": [
    "# 7.How to get the n’th largest value of a column when grouped by another column?\n",
    "\n",
    "* In df, find the second largest value of 'taste' for 'banana'\n",
    "* Input\n",
    "* df = pd.DataFrame({'fruit': ['apple', 'banana', 'orange'] * 3,\n",
    "\n",
    "       'rating': np.random.rand(9),\n",
    "       'price': np.random.randint(0, 15, 9)})"
   ]
  },
  {
   "cell_type": "code",
   "execution_count": 16,
   "metadata": {},
   "outputs": [
    {
     "name": "stdout",
     "output_type": "stream",
     "text": [
      "    fruit    rating  price\n",
      "0   apple  0.207982      0\n",
      "1  banana  0.778379      2\n",
      "2  orange  0.666407      0\n",
      "3   apple  0.016014     10\n",
      "4  banana  0.908736      2\n",
      "5  orange  0.202785      9\n",
      "6   apple  0.380036      1\n",
      "7  banana  0.662093      8\n",
      "8  orange  0.977108      3\n",
      "0.7783785432022093\n"
     ]
    }
   ],
   "source": [
    "df = pd.DataFrame({'fruit': ['apple', 'banana', 'orange'] * 3,\n",
    "                   'rating': np.random.rand(9),\n",
    "                   'price': np.random.randint(0, 15, 9)})\n",
    "\n",
    "print(df)\n",
    "df_grpd = df['rating'].groupby(df.fruit)\n",
    "print(df_grpd.get_group('banana').sort_values().iloc[-2])"
   ]
  },
  {
   "cell_type": "markdown",
   "metadata": {},
   "source": [
    "# 8.How to get the particular group of a groupby dataframe by key?\n",
    "\n",
    "* This is a question related to understanding of grouped dataframe. From df_grouped, get the group belonging to 'apple' as a      dataframe.\n",
    "* Input\n",
    "* df = pd.DataFrame({'col1': ['apple', 'banana', 'orange'] * 3,\n",
    "\n",
    "       'col2': np.random.rand(9),\n",
    "       'col3': np.random.randint(0, 15, 9)})\n",
    "df_grouped = df.groupby(['col1'])"
   ]
  },
  {
   "cell_type": "code",
   "execution_count": 17,
   "metadata": {},
   "outputs": [
    {
     "name": "stdout",
     "output_type": "stream",
     "text": [
      "    col1      col2  col3\n",
      "0  apple  0.531890     8\n",
      "3  apple  0.500657     6\n",
      "6  apple  0.309984     0\n"
     ]
    }
   ],
   "source": [
    "df = pd.DataFrame({'col1': ['apple', 'banana', 'orange'] * 3,\n",
    "                   'col2': np.random.rand(9),\n",
    "                   'col3': np.random.randint(0, 15, 9)})\n",
    "\n",
    "df_grouped = df.groupby(['col1'])\n",
    "\n",
    "print(df_grouped.get_group('apple'))"
   ]
  },
  {
   "cell_type": "markdown",
   "metadata": {},
   "source": [
    "# 9.How to replace both the diagonals of dataframe with 0? Replace both values in both diagonals of df with 0.¶\n",
    "\n",
    "* Input\n",
    "* df = pd.DataFrame(np.random.randint(1,100, 100).reshape(10, -1))\n",
    "* df\n",
    "\n",
    "* 0 1 2 3 4 5 6 7 8 9\n",
    "* 0 11 46 26 44 11 62 18 70 68 26\n",
    "* 1 87 71 52 50 81 43 83 39 3 59\n",
    "* 2 47 76 93 77 73 2 2 16 14 26\n",
    "* 3 64 18 74 22 16 37 60 8 66 39\n",
    "* 4 10 18 39 98 25 8 32 6 3 29\n",
    "* 5 29 91 27 86 23 84 28 31 97 10\n",
    "* 6 37 71 70 65 4 72 82 89 12 97\n",
    "* 7 65 22 97 75 17 10 43 78 12 77\n",
    "* 8 47 57 96 55 17 83 61 85 26 86\n",
    "* 9 76 80 28 45 77 12 67 80 7 63"
   ]
  },
  {
   "cell_type": "code",
   "execution_count": 18,
   "metadata": {},
   "outputs": [
    {
     "name": "stdout",
     "output_type": "stream",
     "text": [
      "    0   1   2   3   4   5   6   7   8   9\n",
      "0   0  65  47  48   2  87  36  89  78   0\n",
      "1  35   0  91  59  63   4  84  18   0   1\n",
      "2  99  70   0  96  98  42  30   0   7  94\n",
      "3  30  74  65   0  44  13   0  71  45  83\n",
      "4  49  43   3  75   0   0  53  16  85  26\n",
      "5  63   2  50  51   0   0  65   2  68  98\n",
      "6  96  80  65   0  77  23   0  16  89  65\n",
      "7  92  18   0  23  67  32  58   0  69   4\n",
      "8   1   0  19  64  66  16  75  32   0  41\n",
      "9   0  32  70  54  37  43  66  79  92   0\n"
     ]
    }
   ],
   "source": [
    "df = pd.DataFrame(np.random.randint(1,100, 100).reshape(10, -1))\n",
    "for i in range(df.shape[0]):\n",
    "    df.iat[i, i] = 0\n",
    "    df.iat[df.shape[0]-i-1, i] = 0\n",
    "print(df)"
   ]
  },
  {
   "cell_type": "markdown",
   "metadata": {},
   "source": [
    "# 10.How to compute the correlation of each row with the suceeding row?¶\n",
    "\n",
    "* Compute the correlation of each row of df with its succeeding row.\n",
    "* Input\n",
    "\n",
    "* df = pd.DataFrame(np.random.randint(1,100, 80).reshape(8, -1))"
   ]
  },
  {
   "cell_type": "code",
   "execution_count": 19,
   "metadata": {},
   "outputs": [
    {
     "name": "stdout",
     "output_type": "stream",
     "text": [
      "[-0.01, -0.03, 0.02, -0.51, -0.16, -0.41, 0.38]\n"
     ]
    }
   ],
   "source": [
    "df = pd.DataFrame(np.random.randint(1,100, 80).reshape(8, -1))\n",
    "\n",
    "print([df.iloc[i].corr(df.iloc[i+1]).round(2) for i in range(df.shape[0])[:-1]])"
   ]
  },
  {
   "cell_type": "markdown",
   "metadata": {},
   "source": [
    "# 11.How to normalize all columns in a dataframe?\n",
    "\n",
    "* Normalize all columns of df by subtracting the column mean and divide by standard deviation.\n",
    "* Range all columns of df such that the minimum value in each column is 0 and max is 1.\n",
    "* Don’t use external packages like sklearn.\n",
    "\n",
    "* Input\n",
    "\n",
    "* df = pd.DataFrame(np.random.randint(1,100, 80).reshape(8, -1))"
   ]
  },
  {
   "cell_type": "code",
   "execution_count": 20,
   "metadata": {},
   "outputs": [
    {
     "name": "stdout",
     "output_type": "stream",
     "text": [
      "Solution Q1\n",
      "       0     1     2     3     4     5     6     7     8     9\n",
      "0  0.93  0.03 -0.80  0.18  0.00  0.33 -0.72 -0.59  1.55 -0.94\n",
      "1  1.15  1.15 -0.20 -0.95  1.51  0.05 -1.07  0.06 -0.21 -0.03\n",
      "2 -1.34 -0.32  1.63  0.68 -0.84 -1.37  1.64 -1.03 -0.82  0.52\n",
      "3 -1.57  0.68  0.43 -1.77 -0.07  0.26  0.94 -0.39  1.27  1.43\n",
      "4  0.13  0.85 -0.41  0.94 -0.19  1.13  0.52 -0.91  0.20 -1.01\n",
      "5  0.21 -1.47 -0.94  0.85 -1.27  0.99 -0.53  1.08 -0.45 -0.52\n",
      "6 -0.17 -1.41  1.24  0.68 -0.57 -1.62  0.30  1.85 -0.12 -0.80\n",
      "7  0.66  0.49 -0.94 -0.61  1.43  0.23 -1.07 -0.07 -1.42  1.36\n"
     ]
    }
   ],
   "source": [
    "df = pd.DataFrame(np.random.randint(1,100, 80).reshape(8, -1))\n",
    "\n",
    "out1 = df.apply(lambda x: ((x - x.mean())/x.std()).round(2))\n",
    "print('Solution Q1\\n',out1)"
   ]
  },
  {
   "cell_type": "markdown",
   "metadata": {},
   "source": [
    "# 12.How to create a column that contains the penultimate value in each row?\n",
    "\n",
    "* Create a new column 'penultimate' which has the second largest value of each row of df.\n",
    "* Input\n",
    "\n",
    "* df = pd.DataFrame(np.random.randint(1,100, 80).reshape(8, -1))"
   ]
  },
  {
   "cell_type": "code",
   "execution_count": 21,
   "metadata": {},
   "outputs": [
    {
     "name": "stdout",
     "output_type": "stream",
     "text": [
      "    0   1   2   3   4   5   6   7   8   9  penultimate\n",
      "0  15  68  41  29   3  53  65  67  75  72           72\n",
      "1  80  47   1  70  97  72  32  70  77  63           80\n",
      "2  98  66  76  99  73  66  58  91  97  94           98\n",
      "3  23  82  52  76  10  48  21  86  24  86           82\n",
      "4  45  95  70  83  20  76  84  43   9  38           84\n",
      "5   4  80  32  61  30  40  97  10  58  95           95\n",
      "6  38   6  71  22  22  48  47  74  73  20           73\n",
      "7  44  44  92  44  67  35   2  39  12   3           67\n"
     ]
    }
   ],
   "source": [
    "df = pd.DataFrame(np.random.randint(1,100, 80).reshape(8, -1))\n",
    "\n",
    "out = df.apply(lambda x: x.sort_values().unique()[-2], axis=1)\n",
    "df['penultimate'] = out\n",
    "print(df)"
   ]
  },
  {
   "cell_type": "markdown",
   "metadata": {},
   "source": [
    "# 13.How to create a column containing the minimum by maximum of each row?\n",
    "\n",
    "* Compute the minimum-by-maximum for every row of df.\n",
    "\n",
    "* df = pd.DataFrame(np.random.randint(1,100, 80).reshape(8, -1))"
   ]
  },
  {
   "cell_type": "code",
   "execution_count": 23,
   "metadata": {},
   "outputs": [
    {
     "name": "stdout",
     "output_type": "stream",
     "text": [
      "    0   1   2   3   4   5   6   7   8   9\n",
      "0  99  42  61  65  59  19  92  85  55  91\n",
      "1  89  95  26  82  85  10   8  49  82  90\n",
      "2  56  53  15  26  26  48  10  73  71  62\n",
      "3  93  70  42  19  90  56  82  87  38  72\n",
      "4  70   6  32  78  87  52  18  32  90  93\n",
      "5  75  32  65  92  37  75  30  46  53  50\n",
      "6   5  71  85  51   7  86  42  44  40  32\n",
      "7  17   9  70  30  50  47  73  15  20  96\n"
     ]
    }
   ],
   "source": [
    "df = pd.DataFrame(np.random.randint(1,100, 80).reshape(8, -1))\n",
    "\n",
    "min_by_max = df.apply(lambda x: np.min(x)/np.max(x), axis=1)\n",
    "print(df)"
   ]
  },
  {
   "cell_type": "markdown",
   "metadata": {},
   "source": [
    "# 14.How to know the maximum possible correlation value of each column against other columns?¶\n",
    "\n",
    "* Compute maximum possible absolute correlation value of each column against other columns in df.\n",
    "* Input\n",
    "\n",
    "* df = pd.DataFrame(np.random.randint(1,100, 80).reshape(8, -1), columns=list('pqrstuvwxy'), index=list('abcdefgh'))"
   ]
  },
  {
   "cell_type": "code",
   "execution_count": 24,
   "metadata": {},
   "outputs": [
    {
     "name": "stdout",
     "output_type": "stream",
     "text": [
      "Maximum Correlation possible for each column:  [0.68 0.93 0.68 0.4  0.9  0.68 0.46 0.93 0.44 0.58]\n"
     ]
    }
   ],
   "source": [
    "df = pd.DataFrame(np.random.randint(1,100, 80).reshape(8, -1), columns=list('pqrstuvwxy'), index=list('abcdefgh'))\n",
    "df\n",
    "abs_corrmat = np.abs(df.corr())\n",
    "max_corr = abs_corrmat.apply(lambda x: sorted(x)[-2])\n",
    "print('Maximum Correlation possible for each column: ', np.round(max_corr.tolist(), 2))"
   ]
  },
  {
   "cell_type": "markdown",
   "metadata": {},
   "source": [
    "# 15.Which column contains the highest number of row-wise maximum values?\n",
    "\n",
    "* Obtain the column name with the highest number of row-wise maximum’s in df.\n",
    "\n",
    "* df = pd.DataFrame(np.random.randint(1,100, 40).reshape(10, -1))"
   ]
  },
  {
   "cell_type": "code",
   "execution_count": 25,
   "metadata": {},
   "outputs": [
    {
     "name": "stdout",
     "output_type": "stream",
     "text": [
      "Column with highest row maxes:  3\n"
     ]
    }
   ],
   "source": [
    "df = pd.DataFrame(np.random.randint(1,100, 40).reshape(10, -1))\n",
    "\n",
    "print('Column with highest row maxes: ', df.apply(np.argmax, axis=1).value_counts().index[0])"
   ]
  },
  {
   "cell_type": "code",
   "execution_count": null,
   "metadata": {},
   "outputs": [],
   "source": []
  }
 ],
 "metadata": {
  "kernelspec": {
   "display_name": "Python 3",
   "language": "python",
   "name": "python3"
  },
  "language_info": {
   "codemirror_mode": {
    "name": "ipython",
    "version": 3
   },
   "file_extension": ".py",
   "mimetype": "text/x-python",
   "name": "python",
   "nbconvert_exporter": "python",
   "pygments_lexer": "ipython3",
   "version": "3.8.5"
  }
 },
 "nbformat": 4,
 "nbformat_minor": 4
}
